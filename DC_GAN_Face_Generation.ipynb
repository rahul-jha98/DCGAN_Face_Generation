{
 "cells": [
  {
   "cell_type": "code",
   "execution_count": null,
   "metadata": {},
   "outputs": [],
   "source": [
    "import numpy as np\n",
    "import matplotlib.pyplot as plt\n",
    "import os\n",
    "from tqdm.notebook import tqdm\n",
    "\n",
    "import tensorflow as tf\n",
    "from tensorflow.keras import layers\n",
    "from tensorflow.keras.layers import Conv2D, LeakyReLU, Flatten, \\\n",
    "                                    Dense, Conv2DTranspose,\\\n",
    "                                    BatchNormalization   \n",
    "\n",
    "from tensorflow.keras.preprocessing.image import ImageDataGenerator\n",
    "from IPython import display"
   ]
  },
  {
   "cell_type": "markdown",
   "metadata": {
    "colab_type": "text",
    "id": "qZPiCAt8M9uZ"
   },
   "source": [
    "## Downloading and Extracting the Dataset\n",
    "\n",
    "The dataset is available at https://www.kaggle.com/jessicali9530/celeba-dataset\n",
    "\n",
    "Sign In to Kaggle and begin the download process for **img_align_celeba** folder. Then copy the link address for the download file and update the download_link varaiable.\n",
    "\n",
    "Once done run all the cells in the notebook. Also, you can cancel the donwload process for the file. :)"
   ]
  },
  {
   "cell_type": "code",
   "execution_count": 0,
   "metadata": {
    "colab": {},
    "colab_type": "code",
    "id": "liHgPHUsNzNM"
   },
   "outputs": [],
   "source": [
    "download_link = \"https://storage.googleapis.com/kaggle-data-sets/29561/37705/upload/img_align_celeba.zip?GoogleAccessId=web-data@kaggle-161607.iam.gserviceaccount.com&Expires=1589954834&Signature=Fp51k2z84DF%2F1Yg8NJliJuI%2FvE%2BcEquiGrfvcfgkcyYRoyFsDZAQk%2Bnt9fR6r0gru8rqvBgmXzZFwm3xXlKqWI8bgYeZOJCsgJBMWOjrUW2lb6%2F9VhnJLIt4QR%2BT2jylZUoGHHHvjBJq%2FFgxTHSkY1fMGkYqMjqmfpWy5neK5sVhRZcjpbPJUUvDO04MREFcc77tGYw6FXZFdOsmY%2BWip4BDc56Fuy29BK7r%2BNy%2F8n3D4FKXV1xmmoMPqoqfYAXEuav7oJvTZlQsU8JZwIVAeS601ZtJztf4qiTiemZXuBHBE9HKfrd%2BnQWS8rcv6O0NhNfoZOg1u1U4BnBcYVmfPw%3D%3D&response-content-disposition=attachment%3B+filename%3Dimg_align_celeba.zip\"\n",
    "\n",
    "## Adding enclosing quotes to link so that the wget can see it as string\n",
    "download_link = \"'\" + download_link + \"'\""
   ]
  },
  {
   "cell_type": "code",
   "execution_count": 0,
   "metadata": {
    "colab": {
     "base_uri": "https://localhost:8080/",
     "height": 224
    },
    "colab_type": "code",
    "id": "1RFbOUpKKXw2",
    "outputId": "91e00da1-5199-4152-817f-6ecdd956b0e4"
   },
   "outputs": [
    {
     "name": "stdout",
     "output_type": "stream",
     "text": [
      "--2020-05-17 08:50:08--  https://storage.googleapis.com/kaggle-data-sets/29561/37705/upload/img_align_celeba.zip?GoogleAccessId=web-data@kaggle-161607.iam.gserviceaccount.com&Expires=1589954834&Signature=Fp51k2z84DF%2F1Yg8NJliJuI%2FvE%2BcEquiGrfvcfgkcyYRoyFsDZAQk%2Bnt9fR6r0gru8rqvBgmXzZFwm3xXlKqWI8bgYeZOJCsgJBMWOjrUW2lb6%2F9VhnJLIt4QR%2BT2jylZUoGHHHvjBJq%2FFgxTHSkY1fMGkYqMjqmfpWy5neK5sVhRZcjpbPJUUvDO04MREFcc77tGYw6FXZFdOsmY%2BWip4BDc56Fuy29BK7r%2BNy%2F8n3D4FKXV1xmmoMPqoqfYAXEuav7oJvTZlQsU8JZwIVAeS601ZtJztf4qiTiemZXuBHBE9HKfrd%2BnQWS8rcv6O0NhNfoZOg1u1U4BnBcYVmfPw%3D%3D&response-content-disposition=attachment%3B+filename%3Dimg_align_celeba.zip\n",
      "Resolving storage.googleapis.com (storage.googleapis.com)... 74.125.23.128, 2404:6800:4008:c02::80\n",
      "Connecting to storage.googleapis.com (storage.googleapis.com)|74.125.23.128|:443... connected.\n",
      "HTTP request sent, awaiting response... 200 OK\n",
      "Length: 1443490838 (1.3G) [application/zip]\n",
      "Saving to: ‘img_align_celeba.zip’\n",
      "\n",
      "img_align_celeba.zi 100%[===================>]   1.34G  66.3MB/s    in 21s     \n",
      "\n",
      "2020-05-17 08:50:30 (65.2 MB/s) - ‘img_align_celeba.zip’ saved [1443490838/1443490838]\n",
      "\n"
     ]
    }
   ],
   "source": [
    "!wget {download_link} -O img_align_celeba.zip"
   ]
  },
  {
   "cell_type": "code",
   "execution_count": 0,
   "metadata": {
    "colab": {},
    "colab_type": "code",
    "id": "ZmPomsA0PGwB"
   },
   "outputs": [],
   "source": [
    "## Quietly unzip the dataset to dataset folder\n",
    "!unzip -q img_align_celeba.zip -d dataset\n",
    "\n",
    "## Storing current path in variable\n",
    "PATH = !pwd\n",
    "PATH = PATH[0]"
   ]
  },
  {
   "cell_type": "code",
   "execution_count": 0,
   "metadata": {
    "colab": {},
    "colab_type": "code",
    "id": "IZ-bJGKqY_Jq"
   },
   "outputs": [],
   "source": [
    "## Setting the batch size (Lower to 128 if limited GPU)\n",
    "BATCH_SIZE = 256\n",
    "\n",
    "## Begin with noise of dimension 128\n",
    "latent_noise_dim = 128\n",
    "\n",
    "## The Width and Height of the train images\n",
    "##          Lower to 64, 64 if limited GPU\n",
    "WIDTH = 128\n",
    "HEIGHT = 128\n",
    "\n",
    "## No of channels\n",
    "CHANNELS = 3"
   ]
  },
  {
   "cell_type": "markdown",
   "metadata": {
    "colab_type": "text",
    "id": "XLeC2PxHRW2C"
   },
   "source": [
    "## Preparing the Dataset Loader"
   ]
  },
  {
   "cell_type": "code",
   "execution_count": 0,
   "metadata": {
    "colab": {},
    "colab_type": "code",
    "id": "LWe4J14aRijP"
   },
   "outputs": [],
   "source": [
    "## Preprocessing done on images \n",
    "## Subtract 127.5 and then rescale it to -1 to 1\n",
    "image_generator = ImageDataGenerator(preprocessing_function = \\\n",
    "                                              lambda x: x - 127.5,\n",
    "                                     rescale=1./127.5)"
   ]
  },
  {
   "cell_type": "code",
   "execution_count": 0,
   "metadata": {
    "colab": {
     "base_uri": "https://localhost:8080/",
     "height": 34
    },
    "colab_type": "code",
    "id": "wBfpacVFVOkE",
    "outputId": "88b94b3f-12ba-440b-cc9b-c539f0f03aed"
   },
   "outputs": [
    {
     "name": "stdout",
     "output_type": "stream",
     "text": [
      "Found 202599 images belonging to 1 classes.\n"
     ]
    }
   ],
   "source": [
    "## Create Data Generator\n",
    "data_generator = image_generator.\\\n",
    "                flow_from_directory(directory=PATH + '/dataset',\n",
    "                                    batch_size=BATCH_SIZE,\n",
    "                                    shuffle=True,\n",
    "                                    target_size=(HEIGHT, WIDTH))"
   ]
  },
  {
   "cell_type": "markdown",
   "metadata": {
    "colab_type": "text",
    "id": "UImKVzlLi5hA"
   },
   "source": [
    "## Creating the Models"
   ]
  },
  {
   "cell_type": "markdown",
   "metadata": {
    "colab_type": "text",
    "id": "nJVygWyWi8E_"
   },
   "source": [
    "### The Generator"
   ]
  },
  {
   "cell_type": "code",
   "execution_count": 0,
   "metadata": {
    "colab": {},
    "colab_type": "code",
    "id": "YUHynhwrgUiK"
   },
   "outputs": [],
   "source": [
    "def create_generator(latent_noise_dim):\n",
    "  model = tf.keras.Sequential()\n",
    "\n",
    "  model.add(Dense(4 * 4 * 256, use_bias=False, input_shape=(latent_noise_dim,)))\n",
    "  model.add(BatchNormalization())\n",
    "  model.add(LeakyReLU())\n",
    "  \n",
    "  model.add(layers.Reshape((4, 4, 256)))\n",
    "  ## By now the output is of the size (BatchSize, 4, 4, 256)\n",
    "\n",
    "  model.add(Conv2DTranspose(128, (5,5), strides=(2,2), padding = 'same', \n",
    "                            use_bias=False))\n",
    "  model.add(BatchNormalization())\n",
    "  model.add(LeakyReLU())\n",
    "  ## By now the output is of the size (BatchSize, 8, 8, 128)\n",
    "\n",
    "  model.add(Conv2DTranspose(64, (5,5), strides=(2,2), padding = 'same', \n",
    "                            use_bias=False))\n",
    "  model.add(BatchNormalization())\n",
    "  model.add(LeakyReLU())\n",
    "  ## By now the output is of the size (BatchSize, 16, 16, 64)\n",
    "\n",
    "\n",
    "  model.add(Conv2DTranspose(32, (5,5), strides=(2,2), padding = 'same', \n",
    "                            use_bias=False))\n",
    "  model.add(BatchNormalization())\n",
    "  model.add(LeakyReLU())\n",
    "  ## By now the output is of the size (BatchSize, 32, 32, 32)\n",
    "\n",
    "  model.add(Conv2DTranspose(16, (5,5), strides=(2,2), padding = 'same', \n",
    "                            use_bias=False))\n",
    "  model.add(BatchNormalization())\n",
    "  model.add(LeakyReLU())\n",
    "\n",
    "  ## By now the output is of the size (BatchSize, 64, 64, 16)\n",
    "  model.add(Conv2DTranspose(3, (5,5), strides=(2,2), padding = 'same', \n",
    "                            use_bias=False, activation = 'tanh'))\n",
    "  ## By now the output is of the size (BatchSize, 128, 128, 3) with values\n",
    "  ## in the range -1 to 1 thus matching properties of normalized train images\n",
    "\n",
    "  return model"
   ]
  },
  {
   "cell_type": "code",
   "execution_count": 0,
   "metadata": {
    "colab": {
     "base_uri": "https://localhost:8080/",
     "height": 731
    },
    "colab_type": "code",
    "id": "cw2m1FgSlpxU",
    "outputId": "1285b331-f7f1-4f1b-9930-e22190bf1d94"
   },
   "outputs": [
    {
     "name": "stdout",
     "output_type": "stream",
     "text": [
      "Model: \"sequential\"\n",
      "_________________________________________________________________\n",
      "Layer (type)                 Output Shape              Param #   \n",
      "=================================================================\n",
      "dense (Dense)                (None, 4096)              524288    \n",
      "_________________________________________________________________\n",
      "batch_normalization (BatchNo (None, 4096)              16384     \n",
      "_________________________________________________________________\n",
      "leaky_re_lu (LeakyReLU)      (None, 4096)              0         \n",
      "_________________________________________________________________\n",
      "reshape (Reshape)            (None, 4, 4, 256)         0         \n",
      "_________________________________________________________________\n",
      "conv2d_transpose (Conv2DTran (None, 8, 8, 128)         819200    \n",
      "_________________________________________________________________\n",
      "batch_normalization_1 (Batch (None, 8, 8, 128)         512       \n",
      "_________________________________________________________________\n",
      "leaky_re_lu_1 (LeakyReLU)    (None, 8, 8, 128)         0         \n",
      "_________________________________________________________________\n",
      "conv2d_transpose_1 (Conv2DTr (None, 16, 16, 64)        204800    \n",
      "_________________________________________________________________\n",
      "batch_normalization_2 (Batch (None, 16, 16, 64)        256       \n",
      "_________________________________________________________________\n",
      "leaky_re_lu_2 (LeakyReLU)    (None, 16, 16, 64)        0         \n",
      "_________________________________________________________________\n",
      "conv2d_transpose_2 (Conv2DTr (None, 32, 32, 32)        51200     \n",
      "_________________________________________________________________\n",
      "batch_normalization_3 (Batch (None, 32, 32, 32)        128       \n",
      "_________________________________________________________________\n",
      "leaky_re_lu_3 (LeakyReLU)    (None, 32, 32, 32)        0         \n",
      "_________________________________________________________________\n",
      "conv2d_transpose_3 (Conv2DTr (None, 64, 64, 16)        12800     \n",
      "_________________________________________________________________\n",
      "batch_normalization_4 (Batch (None, 64, 64, 16)        64        \n",
      "_________________________________________________________________\n",
      "leaky_re_lu_4 (LeakyReLU)    (None, 64, 64, 16)        0         \n",
      "_________________________________________________________________\n",
      "conv2d_transpose_4 (Conv2DTr (None, 128, 128, 3)       1200      \n",
      "=================================================================\n",
      "Total params: 1,630,832\n",
      "Trainable params: 1,622,160\n",
      "Non-trainable params: 8,672\n",
      "_________________________________________________________________\n"
     ]
    }
   ],
   "source": [
    "generator = create_generator(latent_noise_dim)\n",
    "generator.summary()"
   ]
  },
  {
   "cell_type": "code",
   "execution_count": 0,
   "metadata": {
    "colab": {
     "base_uri": "https://localhost:8080/",
     "height": 285
    },
    "colab_type": "code",
    "id": "thW_omNYlvlg",
    "outputId": "446391c0-9101-467f-9a87-b7f4d1e836ef"
   },
   "outputs": [
    {
     "data": {
      "text/plain": [
       "<matplotlib.image.AxesImage at 0x7fe21fc8e0b8>"
      ]
     },
     "execution_count": 11,
     "metadata": {
      "tags": []
     },
     "output_type": "execute_result"
    },
    {
     "data": {
      "image/png": "[encoded data removed]",
      "text/plain": [
       "<Figure size 432x288 with 1 Axes>"
      ]
     },
     "metadata": {
      "needs_background": "light",
      "tags": []
     },
     "output_type": "display_data"
    }
   ],
   "source": [
    "noise = tf.random.normal([1, latent_noise_dim])\n",
    "generator_output = generator(noise)\n",
    "\n",
    "plt.imshow((generator_output[0, :, :, :] + 1) * .5)"
   ]
  },
  {
   "cell_type": "markdown",
   "metadata": {
    "colab_type": "text",
    "id": "a4l4EYEVnUw7"
   },
   "source": [
    "### The Discriminator"
   ]
  },
  {
   "cell_type": "code",
   "execution_count": 0,
   "metadata": {
    "colab": {},
    "colab_type": "code",
    "id": "G1JdqJlpmLSX"
   },
   "outputs": [],
   "source": [
    "def create_discriminator():\n",
    "  model = tf.keras.Sequential()\n",
    "\n",
    "  ## Expects input of shape (BATCH_SIZE, 128, 128, 3)\n",
    "  model.add(Conv2D(8, (5,5), strides=(2,2), padding='same',\n",
    "                   input_shape = [WIDTH, HEIGHT, CHANNELS]))\n",
    "  model.add(LeakyReLU())\n",
    "\n",
    "  ## Shape => (BATCH_SIZE, 64, 64, 8)\n",
    "  model.add(Conv2D(32, (5,5), strides=(2,2), padding='same'))\n",
    "  model.add(BatchNormalization())\n",
    "  model.add(LeakyReLU())\n",
    "\n",
    "  ## Shape => (BATCH_SIZE, 32, 32, 32)\n",
    "  model.add(Conv2D(64, (5,5), strides=(2,2), padding='same'))\n",
    "  model.add(BatchNormalization())\n",
    "  model.add(LeakyReLU())\n",
    "\n",
    "  ## Shape => (BATCH_SIZE, 16, 16, 64)\n",
    "  model.add(Conv2D(128, (5,5), strides=(2,2), padding='same'))\n",
    "  model.add(BatchNormalization())\n",
    "  model.add(LeakyReLU())\n",
    "\n",
    "  ## Shape => (BATCH_SIZE, 8, 8, 128)\n",
    "  model.add(Conv2D(128, (3,3), strides=(1,1), padding='same'))\n",
    "  model.add(BatchNormalization())\n",
    "  model.add(LeakyReLU())\n",
    "\n",
    "\n",
    "  model.add(Flatten())\n",
    "\n",
    "  model.add(Dense(8 * 128))\n",
    "  model.add(LeakyReLU())\n",
    "\n",
    "  model.add(Dense(2 * 128))\n",
    "  model.add(LeakyReLU())\n",
    "  \n",
    "  model.add(Dense(1))\n",
    "\n",
    "  return model"
   ]
  },
  {
   "cell_type": "code",
   "execution_count": 0,
   "metadata": {
    "colab": {
     "base_uri": "https://localhost:8080/",
     "height": 833
    },
    "colab_type": "code",
    "id": "vtjKbHPvmpwI",
    "outputId": "9b4486a9-3b68-4d81-baba-8e2708e5acc3"
   },
   "outputs": [
    {
     "name": "stdout",
     "output_type": "stream",
     "text": [
      "Model: \"sequential_1\"\n",
      "_________________________________________________________________\n",
      "Layer (type)                 Output Shape              Param #   \n",
      "=================================================================\n",
      "conv2d (Conv2D)              (None, 64, 64, 8)         608       \n",
      "_________________________________________________________________\n",
      "leaky_re_lu_5 (LeakyReLU)    (None, 64, 64, 8)         0         \n",
      "_________________________________________________________________\n",
      "conv2d_1 (Conv2D)            (None, 32, 32, 32)        6432      \n",
      "_________________________________________________________________\n",
      "batch_normalization_5 (Batch (None, 32, 32, 32)        128       \n",
      "_________________________________________________________________\n",
      "leaky_re_lu_6 (LeakyReLU)    (None, 32, 32, 32)        0         \n",
      "_________________________________________________________________\n",
      "conv2d_2 (Conv2D)            (None, 16, 16, 64)        51264     \n",
      "_________________________________________________________________\n",
      "batch_normalization_6 (Batch (None, 16, 16, 64)        256       \n",
      "_________________________________________________________________\n",
      "leaky_re_lu_7 (LeakyReLU)    (None, 16, 16, 64)        0         \n",
      "_________________________________________________________________\n",
      "conv2d_3 (Conv2D)            (None, 8, 8, 128)         204928    \n",
      "_________________________________________________________________\n",
      "batch_normalization_7 (Batch (None, 8, 8, 128)         512       \n",
      "_________________________________________________________________\n",
      "leaky_re_lu_8 (LeakyReLU)    (None, 8, 8, 128)         0         \n",
      "_________________________________________________________________\n",
      "conv2d_4 (Conv2D)            (None, 8, 8, 128)         147584    \n",
      "_________________________________________________________________\n",
      "batch_normalization_8 (Batch (None, 8, 8, 128)         512       \n",
      "_________________________________________________________________\n",
      "leaky_re_lu_9 (LeakyReLU)    (None, 8, 8, 128)         0         \n",
      "_________________________________________________________________\n",
      "flatten (Flatten)            (None, 8192)              0         \n",
      "_________________________________________________________________\n",
      "dense_1 (Dense)              (None, 1024)              8389632   \n",
      "_________________________________________________________________\n",
      "leaky_re_lu_10 (LeakyReLU)   (None, 1024)              0         \n",
      "_________________________________________________________________\n",
      "dense_2 (Dense)              (None, 256)               262400    \n",
      "_________________________________________________________________\n",
      "leaky_re_lu_11 (LeakyReLU)   (None, 256)               0         \n",
      "_________________________________________________________________\n",
      "dense_3 (Dense)              (None, 1)                 257       \n",
      "=================================================================\n",
      "Total params: 9,064,513\n",
      "Trainable params: 9,063,809\n",
      "Non-trainable params: 704\n",
      "_________________________________________________________________\n"
     ]
    }
   ],
   "source": [
    "## Viewing the Discriminator Model\n",
    "discriminator = create_discriminator()\n",
    "discriminator.summary()"
   ]
  },
  {
   "cell_type": "code",
   "execution_count": 0,
   "metadata": {
    "colab": {
     "base_uri": "https://localhost:8080/",
     "height": 34
    },
    "colab_type": "code",
    "id": "RryxuLbEqm4P",
    "outputId": "86a99e86-fa5a-419f-967e-e5cf56e1c2a0"
   },
   "outputs": [
    {
     "name": "stdout",
     "output_type": "stream",
     "text": [
      "tf.Tensor([[0.00020322]], shape=(1, 1), dtype=float32)\n"
     ]
    }
   ],
   "source": [
    "discriminator_output = discriminator(generator_output)\n",
    "print(discriminator_output)"
   ]
  },
  {
   "cell_type": "markdown",
   "metadata": {
    "colab_type": "text",
    "id": "pR3nay1jqsS0"
   },
   "source": [
    "## Defining the Loss Functions and Optimizers"
   ]
  },
  {
   "cell_type": "code",
   "execution_count": 0,
   "metadata": {
    "colab": {},
    "colab_type": "code",
    "id": "x35aG-jSqo5i"
   },
   "outputs": [],
   "source": [
    "## Need this in our generator and discriminator loss\n",
    "cross_entropy = tf.keras.losses.BinaryCrossentropy(from_logits=True)"
   ]
  },
  {
   "cell_type": "markdown",
   "metadata": {
    "colab_type": "text",
    "id": "4SgBLihTqzkQ"
   },
   "source": [
    "### Discriminator Loss Function"
   ]
  },
  {
   "cell_type": "code",
   "execution_count": 0,
   "metadata": {
    "colab": {},
    "colab_type": "code",
    "id": "sZ2NOqmBqwHl"
   },
   "outputs": [],
   "source": [
    "def discriminator_loss(real_output, fake_output):\n",
    "    real_loss = cross_entropy(tf.ones_like(real_output), real_output)\n",
    "    fake_loss = cross_entropy(tf.zeros_like(fake_output), fake_output)\n",
    "    return real_loss + fake_loss"
   ]
  },
  {
   "cell_type": "markdown",
   "metadata": {
    "colab_type": "text",
    "id": "JZyGZjL4q9jJ"
   },
   "source": [
    "### Generator Loss Function"
   ]
  },
  {
   "cell_type": "code",
   "execution_count": 0,
   "metadata": {
    "colab": {},
    "colab_type": "code",
    "id": "YLurEdPjq2tW"
   },
   "outputs": [],
   "source": [
    "def generator_loss(fake_output):\n",
    "    return cross_entropy(tf.ones_like(fake_output), fake_output)"
   ]
  },
  {
   "cell_type": "markdown",
   "metadata": {
    "colab_type": "text",
    "id": "LVFZRcnMrC3i"
   },
   "source": [
    "## Optimizers"
   ]
  },
  {
   "cell_type": "code",
   "execution_count": 0,
   "metadata": {
    "colab": {},
    "colab_type": "code",
    "id": "UJqFYUnArAgW"
   },
   "outputs": [],
   "source": [
    "# The generator and discriminator each gets its own optimizer\n",
    "generator_optimizer = tf.keras.optimizers.Adam(12e-5, .5)\n",
    "discriminator_optimizer = tf.keras.optimizers.Adam(6e-5, .5)"
   ]
  },
  {
   "cell_type": "code",
   "execution_count": 0,
   "metadata": {
    "colab": {},
    "colab_type": "code",
    "id": "8xqDCVuVrEsx"
   },
   "outputs": [],
   "source": [
    "checkpoint_dir = './train_checkpoints'\n",
    "checkpoint_prefix = os.path.join(checkpoint_dir, \"ckpt\")\n",
    "\n",
    "checkpoint = tf.train.Checkpoint(generator_optimizer=generator_optimizer,\n",
    "                                 discriminator_optimizer=discriminator_optimizer,\n",
    "                                 generator=generator,\n",
    "                                 discriminator=discriminator)"
   ]
  },
  {
   "cell_type": "markdown",
   "metadata": {
    "colab_type": "text",
    "id": "Dj_gK4qsNtDi"
   },
   "source": [
    "## Defining the Training Loop"
   ]
  },
  {
   "cell_type": "code",
   "execution_count": 0,
   "metadata": {
    "colab": {},
    "colab_type": "code",
    "id": "7N7Xt92NNExG"
   },
   "outputs": [],
   "source": [
    "## In order to compare our model performance we will use a fixed validation\n",
    "## seed to generate fixed number of images and see the output of it\n",
    "no_validation_images = 16\n",
    "validation_seed = tf.random.normal([no_validation_images, latent_noise_dim])"
   ]
  },
  {
   "cell_type": "markdown",
   "metadata": {
    "colab_type": "text",
    "id": "wBXg_sIqPFzy"
   },
   "source": [
    "The training function for one batch receives a array of real images which is random BATCH_SIZE no of samples of train images.\n",
    "\n",
    "\n",
    "One batch of training function works like this: \n",
    "1. Prepare random noise of BATCH_SIZE, latent_dim_shape\n",
    "2. Get generated images from the generator\n",
    "3. Get output of dicriminator on Real and Fake (Generated) images\n",
    "4. Compute loss of generator and discriminator\n",
    "5. Propogate the loss for each model individually\n",
    "\n"
   ]
  },
  {
   "cell_type": "code",
   "execution_count": 0,
   "metadata": {
    "colab": {},
    "colab_type": "code",
    "id": "vOxmd_GiOjqw"
   },
   "outputs": [],
   "source": [
    "# Since it will be called repeatedly we use @tf.function annotation\n",
    "# This will compile the function saving execution time\n",
    "\n",
    "@tf.function\n",
    "def train_one_batch(real_images):\n",
    "  ## Generate random noise\n",
    "  random_noise = tf.random.normal([BATCH_SIZE, latent_noise_dim])\n",
    "\n",
    "  with tf.GradientTape() as gen_tape, tf.GradientTape() as disc_tape:\n",
    "    ## Generate images using Generator\n",
    "    generated_images = generator(random_noise, training = True)\n",
    "\n",
    "    ## Get the output of dicriminator on real and generate images\n",
    "    real_output = discriminator(real_images, training = True)\n",
    "    fake_output = discriminator(generated_images, training=True)\n",
    "\n",
    "    ## Get loss of generator and dicriminator\n",
    "    loss_generator = generator_loss(fake_output)\n",
    "    loss_discriminator = discriminator_loss(real_output, fake_output)\n",
    "\n",
    "    ## Compute Gradients of generator and dicriminator\n",
    "    generator_gradients = gen_tape.gradient(loss_generator, \n",
    "                                            generator.trainable_variables)\n",
    "    discriminator_gradients = disc_tape.gradient(loss_discriminator, \n",
    "                                                 discriminator.\\\n",
    "                                                 trainable_variables)\n",
    "    \n",
    "    ## Apply backprop using the computed gradients\n",
    "    generator_optimizer.apply_gradients(zip(generator_gradients,\n",
    "                                            generator.trainable_variables))\n",
    "    discriminator_optimizer.apply_gradients(zip(discriminator_gradients,\n",
    "                                                discriminator.\\\n",
    "                                                 trainable_variables))\n",
    "    return loss_generator, loss_discriminator"
   ]
  },
  {
   "cell_type": "code",
   "execution_count": 0,
   "metadata": {
    "colab": {},
    "colab_type": "code",
    "id": "lMuGiTfRUxuY"
   },
   "outputs": [],
   "source": [
    "def fit(dataset, epochs):\n",
    "  length = len(dataset)\n",
    "  for epoch in range(1, epochs + 1):\n",
    "    for idx in tqdm(range(length)):\n",
    "      batch, _ = next(dataset)\n",
    "      gen_loss, disc_loss = train_one_batch(batch)\n",
    "      if idx % 50 == 0:\n",
    "        print(\"GLoss: {0} DLoss: {1}\".format(gen_loss,\n",
    "                                            disc_loss))\n",
    "\n",
    "    display.clear_output(wait=True)\n",
    "    visualize_validation_output(generator, epoch, validation_seed)\n",
    "\n",
    "    if (epoch) % 10 == 0:\n",
    "      checkpoint.save(file_prefix = checkpoint_prefix)\n",
    "  \n",
    "  display.clear_output(wait=True)\n",
    "  visualize_validation_output(generator, epochs + 1, validation_seed)"
   ]
  },
  {
   "cell_type": "code",
   "execution_count": 0,
   "metadata": {
    "colab": {},
    "colab_type": "code",
    "id": "w-hc57mLYgoV"
   },
   "outputs": [],
   "source": [
    "def visualize_validation_output(model, epoch, validation_seed):\n",
    "  generated_images = model(validation_seed, training = False)\n",
    "\n",
    "  fig = plt.figure(figsize = (4,4))\n",
    "\n",
    "  for i in range(generated_images.shape[0]):\n",
    "    plt.subplot(4, 4, i + 1)\n",
    "    plt.imshow((generated_images[i, :, :,:] + 1) * .5)\n",
    "    plt.axis('off')\n",
    "  \n",
    "  fig.suptitle('Output at epoch {:03}'.format(epoch))\n",
    "  plt.savefig('validation_images_{:03}.png'.format(epoch))\n",
    "  plt.show()"
   ]
  },
  {
   "cell_type": "markdown",
   "metadata": {
    "colab_type": "text",
    "id": "7-ByHUmbcsZV"
   },
   "source": [
    "## Training"
   ]
  },
  {
   "cell_type": "code",
   "execution_count": 0,
   "metadata": {
    "colab": {},
    "colab_type": "code",
    "id": "RfxpEhTizEta"
   },
   "outputs": [],
   "source": [
    "fit(data_generator, 80)"
   ]
  },
  {
   "cell_type": "markdown",
   "metadata": {
    "colab_type": "text",
    "id": "Mi6nceNNUJCb"
   },
   "source": [
    "## Creating GIF"
   ]
  },
  {
   "cell_type": "code",
   "execution_count": 0,
   "metadata": {
    "colab": {},
    "colab_type": "code",
    "id": "1WrR-uGVULdt"
   },
   "outputs": [],
   "source": [
    "import glob\n",
    "import imageio"
   ]
  },
  {
   "cell_type": "code",
   "execution_count": 0,
   "metadata": {
    "colab": {},
    "colab_type": "code",
    "id": "SdnK0JowUfwP"
   },
   "outputs": [],
   "source": [
    "gif_file = 'model_behaviour.gif'\n",
    "\n",
    "with imageio.get_writer(gif_file, mode='I') as writer:\n",
    "  filenames = glob.glob('val*.png')\n",
    "  filenames = sorted(filenames)\n",
    "  last = -1\n",
    "  for i,filename in enumerate(filenames):\n",
    "    ## As the epoch increases we will delay the time\n",
    "    ## before the next frame comes in thus making sure\n",
    "    ## that the end epochs are clearly visible\n",
    "    frame = 1.5 * (i**(i/(i+1)))   \n",
    "    if round(frame) > round(last):\n",
    "      last = frame\n",
    "    else:\n",
    "      continue\n",
    "    image = imageio.imread(filename)\n",
    "    writer.append_data(image)\n",
    "  image = imageio.imread(filename)\n",
    "  writer.append_data(image)"
   ]
  }
 ],
 "metadata": {
  "accelerator": "GPU",
  "colab": {
   "name": "DC-GAN_Face_Generation.ipynb",
   "provenance": []
  },
  "kernelspec": {
   "display_name": "Python 3",
   "language": "python",
   "name": "python3"
  },
  "language_info": {
   "codemirror_mode": {
    "name": "ipython",
    "version": 3
   },
   "file_extension": ".py",
   "mimetype": "text/x-python",
   "name": "python",
   "nbconvert_exporter": "python",
   "pygments_lexer": "ipython3",
   "version": "3.7.6"
  }
 },
 "nbformat": 4,
 "nbformat_minor": 1
}
